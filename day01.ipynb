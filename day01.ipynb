{
 "cells": [
  {
   "cell_type": "code",
   "execution_count": 4,
   "metadata": {},
   "outputs": [
    {
     "name": "stdout",
     "output_type": "stream",
     "text": [
      "Salem\n",
      "Unknown state\n"
     ]
    }
   ],
   "source": [
    "import sys\n",
    "\n",
    "def print_capital(key):\n",
    "    states = {\n",
    "        \"Oregon\": \"OR\",\n",
    "        \"Alabama\": \"AL\",\n",
    "        \"New Jersey\": \"NJ\",\n",
    "        \"Colorado\": \"CO\"\n",
    "    }\n",
    "    capital_cities = {\n",
    "        \"OR\": \"Salem\",\n",
    "        \"AL\": \"Montgomery\",\n",
    "        \"NJ\": \"Trenton\",\n",
    "        \"CO\": \"Denver\"\n",
    "    }\n",
    "    if key in states:\n",
    "        print(capital_cities[states[key]])\n",
    "    else:\n",
    "        print(\"Unknown state\")\n",
    "        \n",
    "# def key_search():\n",
    "#     keys = \"Oregon\"\n",
    "#     print_capital(keys)\n",
    "#     keys = \"zuzu\"\n",
    "#     print_capital(keys)\n",
    "    \n",
    "def key_search():\n",
    "    if len(sys.arg) == 2:\n",
    "        print_capital(sys.arg[1])\n",
    "        \n",
    "key_search()"
   ]
  },
  {
   "cell_type": "code",
   "execution_count": 8,
   "metadata": {},
   "outputs": [
    {
     "name": "stdout",
     "output_type": "stream",
     "text": [
      "Colorado\n",
      "Unknown capital city\n"
     ]
    }
   ],
   "source": [
    "import sys\n",
    "\n",
    "def print_capital(value):\n",
    "    states = {\n",
    "        \"Oregon\": \"OR\",\n",
    "        \"Alabama\": \"AL\",\n",
    "        \"New Jersey\": \"NJ\",\n",
    "        \"Colorado\": \"CO\"\n",
    "    }\n",
    "    capital_cities = {\n",
    "        \"OR\": \"Salem\",\n",
    "        \"AL\": \"Montgomery\",\n",
    "        \"NJ\": \"Trenton\", \n",
    "        \"CO\": \"Denver\"\n",
    "    }\n",
    "    if value in capital_cities.values():\n",
    "        for key in capital_cities:\n",
    "            if (capital_cities[key] == value):\n",
    "                for state in states:\n",
    "                    if (key == states[state]):\n",
    "                        print(state)\n",
    "    else:\n",
    "        print(\"Unknown capital city\")\n",
    "        \n",
    "# def searcher():\n",
    "#     value = \"Denver\"\n",
    "#     print_capital(value)\n",
    "#     value = \"Denv\"\n",
    "#     print_capital(value)\n",
    "\n",
    "# searcher()    \n",
    "def search_by_value():\n",
    "    if len(sys.arg) == 2\n",
    "        print_state(sys.arg[1])"
   ]
  },
  {
   "cell_type": "code",
   "execution_count": 13,
   "metadata": {},
   "outputs": [
    {
     "name": "stdout",
     "output_type": "stream",
     "text": [
      "Montgomery is the capital of Alabama\n",
      "Trenton is the capital of New Jersey\n",
      "Zuzu is neither a capital city nor a state\n"
     ]
    }
   ],
   "source": [
    "import sys\n",
    "\n",
    "def print_list(words):\n",
    "    states = {\n",
    "        \"Oregon\": \"OR\",\n",
    "        \"Alabama\": \"AL\",\n",
    "        \"New Jersey\": \"NJ\",\n",
    "        \"Colorado\": \"CO\"\n",
    "    }\n",
    "    capital_cities = {\n",
    "        \"OR\": \"Salem\",\n",
    "        \"AL\": \"Montgomery\",\n",
    "        \"NJ\": \"Trenton\", \n",
    "        \"CO\": \"Denver\"\n",
    "    }\n",
    "    #toponims = prepare(words)\n",
    "    toponims = words\n",
    "    for top in toponims:\n",
    "        if top in states:\n",
    "            print(capital_cities[states[top]], \"is the capital of\", top)\n",
    "        elif top in capital_cities.values():\n",
    "            for key in capital_cities:\n",
    "                if (capital_cities[key] == top):\n",
    "                    for state in states:\n",
    "                        if (key == states[state]):\n",
    "                            print(top, \"is the capital of\", state)\n",
    "        else:\n",
    "            print(top, \"is neither a capital city nor a state\")\n",
    "\n",
    "            \n",
    "def searcher():\n",
    "    ls = [\"Alabama\", \"Trenton\", \"Zuzu\"]\n",
    "    print_list(ls)\n",
    "\n",
    "searcher()\n",
    "# def search_by_key_or_value():\n",
    "#     if len(sys.arg) == 2:\n",
    "#         print_list(arg[1])"
   ]
  },
  {
   "cell_type": "code",
   "execution_count": null,
   "metadata": {},
   "outputs": [],
   "source": []
  }
 ],
 "metadata": {
  "kernelspec": {
   "display_name": "Python 3",
   "language": "python",
   "name": "python3"
  },
  "language_info": {
   "codemirror_mode": {
    "name": "ipython",
    "version": 3
   },
   "file_extension": ".py",
   "mimetype": "text/x-python",
   "name": "python",
   "nbconvert_exporter": "python",
   "pygments_lexer": "ipython3",
   "version": "3.8.5"
  }
 },
 "nbformat": 4,
 "nbformat_minor": 4
}
